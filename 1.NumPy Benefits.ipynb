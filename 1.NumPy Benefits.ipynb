{
 "cells": [
  {
   "cell_type": "code",
   "execution_count": 2,
   "id": "8e619e1c",
   "metadata": {},
   "outputs": [],
   "source": [
    "import numpy as np   ## np is alias or pet name"
   ]
  },
  {
   "cell_type": "code",
   "execution_count": 6,
   "id": "15f05970",
   "metadata": {},
   "outputs": [],
   "source": [
    "Distance =[2,4,6,8,10]\n",
    "Time =[10,20,30,40,5]"
   ]
  },
  {
   "cell_type": "code",
   "execution_count": 7,
   "id": "7d16ee91",
   "metadata": {},
   "outputs": [
    {
     "ename": "TypeError",
     "evalue": "unsupported operand type(s) for /: 'list' and 'list'",
     "output_type": "error",
     "traceback": [
      "\u001b[1;31m---------------------------------------------------------------------------\u001b[0m",
      "\u001b[1;31mTypeError\u001b[0m                                 Traceback (most recent call last)",
      "Cell \u001b[1;32mIn[7], line 1\u001b[0m\n\u001b[1;32m----> 1\u001b[0m Speed\u001b[38;5;241m=\u001b[39m Distance\u001b[38;5;241m/\u001b[39mTime\n",
      "\u001b[1;31mTypeError\u001b[0m: unsupported operand type(s) for /: 'list' and 'list'"
     ]
    }
   ],
   "source": [
    "Speed= Distance/Time"
   ]
  },
  {
   "cell_type": "code",
   "execution_count": 8,
   "id": "6860501e",
   "metadata": {},
   "outputs": [],
   "source": [
    "Num_Distance = np.array(Distance)\n",
    "Num_Time = np.array(Time)"
   ]
  },
  {
   "cell_type": "code",
   "execution_count": 9,
   "id": "4b66f9bd",
   "metadata": {},
   "outputs": [
    {
     "data": {
      "text/plain": [
       "array([0.2, 0.2, 0.2, 0.2, 2. ])"
      ]
     },
     "execution_count": 9,
     "metadata": {},
     "output_type": "execute_result"
    }
   ],
   "source": [
    "Speed = Num_Distance/Num_Time\n",
    "Speed"
   ]
  },
  {
   "cell_type": "code",
   "execution_count": 10,
   "id": "8501a700",
   "metadata": {},
   "outputs": [
    {
     "data": {
      "text/plain": [
       "numpy.ndarray"
      ]
     },
     "execution_count": 10,
     "metadata": {},
     "output_type": "execute_result"
    }
   ],
   "source": [
    "type(Speed)"
   ]
  },
  {
   "cell_type": "code",
   "execution_count": null,
   "id": "84d22492",
   "metadata": {},
   "outputs": [],
   "source": []
  },
  {
   "cell_type": "code",
   "execution_count": 11,
   "id": "84c46c91",
   "metadata": {},
   "outputs": [
    {
     "data": {
      "text/plain": [
       "[1, 6, 11, 16, 21, 26, 31, 36, 41, 46, 51, 56, 61, 66, 71, 76, 81, 86, 91, 96]"
      ]
     },
     "execution_count": 11,
     "metadata": {},
     "output_type": "execute_result"
    }
   ],
   "source": [
    "list1=list(range(1,100,5))\n",
    "list1"
   ]
  },
  {
   "cell_type": "code",
   "execution_count": 12,
   "id": "66e1f80e",
   "metadata": {},
   "outputs": [
    {
     "name": "stdout",
     "output_type": "stream",
     "text": [
      "[6, 11, 16, 21, 26, 31, 36, 41, 46, 51, 56, 61, 66, 71, 76, 81, 86, 91, 96, 101]\n"
     ]
    }
   ],
   "source": [
    "for i in range(len(list1)):\n",
    "    list1[i]=list1[i]+5\n",
    "print(list1)    "
   ]
  },
  {
   "cell_type": "code",
   "execution_count": 13,
   "id": "3e243fca",
   "metadata": {},
   "outputs": [
    {
     "data": {
      "text/plain": [
       "array([ 1,  6, 11, 16, 21, 26, 31, 36, 41, 46, 51, 56, 61, 66, 71, 76, 81,\n",
       "       86, 91, 96])"
      ]
     },
     "execution_count": 13,
     "metadata": {},
     "output_type": "execute_result"
    }
   ],
   "source": [
    "arr1 = np.arange(1,100,5)\n",
    "arr1"
   ]
  },
  {
   "cell_type": "code",
   "execution_count": 14,
   "id": "8f856249",
   "metadata": {},
   "outputs": [
    {
     "data": {
      "text/plain": [
       "array([  6,  11,  16,  21,  26,  31,  36,  41,  46,  51,  56,  61,  66,\n",
       "        71,  76,  81,  86,  91,  96, 101])"
      ]
     },
     "execution_count": 14,
     "metadata": {},
     "output_type": "execute_result"
    }
   ],
   "source": [
    "arr1=arr1+5\n",
    "arr1"
   ]
  },
  {
   "cell_type": "markdown",
   "id": "ed0bfc5e",
   "metadata": {},
   "source": [
    "# 2.Speed"
   ]
  },
  {
   "cell_type": "code",
   "execution_count": 16,
   "id": "9331b03a",
   "metadata": {},
   "outputs": [
    {
     "name": "stdout",
     "output_type": "stream",
     "text": [
      "CPU times: total: 93.8 ms\n",
      "Wall time: 148 ms\n"
     ]
    },
    {
     "data": {
      "text/plain": [
       "[3,\n",
       " 9,\n",
       " 15,\n",
       " 21,\n",
       " 27,\n",
       " 33,\n",
       " 39,\n",
       " 45,\n",
       " 51,\n",
       " 57,\n",
       " 63,\n",
       " 69,\n",
       " 75,\n",
       " 81,\n",
       " 87,\n",
       " 93,\n",
       " 99,\n",
       " 105,\n",
       " 111,\n",
       " 117,\n",
       " 123,\n",
       " 129,\n",
       " 135,\n",
       " 141,\n",
       " 147,\n",
       " 153,\n",
       " 159,\n",
       " 165,\n",
       " 171,\n",
       " 177,\n",
       " 183,\n",
       " 189,\n",
       " 195,\n",
       " 201,\n",
       " 207,\n",
       " 213,\n",
       " 219,\n",
       " 225,\n",
       " 231,\n",
       " 237,\n",
       " 243,\n",
       " 249,\n",
       " 255,\n",
       " 261,\n",
       " 267,\n",
       " 273,\n",
       " 279,\n",
       " 285,\n",
       " 291,\n",
       " 297,\n",
       " 303,\n",
       " 309,\n",
       " 315,\n",
       " 321,\n",
       " 327,\n",
       " 333,\n",
       " 339,\n",
       " 345,\n",
       " 351,\n",
       " 357,\n",
       " 363,\n",
       " 369,\n",
       " 375,\n",
       " 381,\n",
       " 387,\n",
       " 393,\n",
       " 399,\n",
       " 405,\n",
       " 411,\n",
       " 417,\n",
       " 423,\n",
       " 429,\n",
       " 435,\n",
       " 441,\n",
       " 447,\n",
       " 453,\n",
       " 459,\n",
       " 465,\n",
       " 471,\n",
       " 477,\n",
       " 483,\n",
       " 489,\n",
       " 495,\n",
       " 501,\n",
       " 507,\n",
       " 513,\n",
       " 519,\n",
       " 525,\n",
       " 531,\n",
       " 537,\n",
       " 543,\n",
       " 549,\n",
       " 555,\n",
       " 561,\n",
       " 567,\n",
       " 573,\n",
       " 579,\n",
       " 585,\n",
       " 591,\n",
       " 597,\n",
       " 603,\n",
       " 609,\n",
       " 615,\n",
       " 621,\n",
       " 627,\n",
       " 633,\n",
       " 639,\n",
       " 645,\n",
       " 651,\n",
       " 657,\n",
       " 663,\n",
       " 669,\n",
       " 675,\n",
       " 681,\n",
       " 687,\n",
       " 693,\n",
       " 699,\n",
       " 705,\n",
       " 711,\n",
       " 717,\n",
       " 723,\n",
       " 729,\n",
       " 735,\n",
       " 741,\n",
       " 747,\n",
       " 753,\n",
       " 759,\n",
       " 765,\n",
       " 771,\n",
       " 777,\n",
       " 783,\n",
       " 789,\n",
       " 795,\n",
       " 801,\n",
       " 807,\n",
       " 813,\n",
       " 819,\n",
       " 825,\n",
       " 831,\n",
       " 837,\n",
       " 843,\n",
       " 849,\n",
       " 855,\n",
       " 861,\n",
       " 867,\n",
       " 873,\n",
       " 879,\n",
       " 885,\n",
       " 891,\n",
       " 897,\n",
       " 903,\n",
       " 909,\n",
       " 915,\n",
       " 921,\n",
       " 927,\n",
       " 933,\n",
       " 939,\n",
       " 945,\n",
       " 951,\n",
       " 957,\n",
       " 963,\n",
       " 969,\n",
       " 975,\n",
       " 981,\n",
       " 987,\n",
       " 993,\n",
       " 999,\n",
       " 1005,\n",
       " 1011,\n",
       " 1017,\n",
       " 1023,\n",
       " 1029,\n",
       " 1035,\n",
       " 1041,\n",
       " 1047,\n",
       " 1053,\n",
       " 1059,\n",
       " 1065,\n",
       " 1071,\n",
       " 1077,\n",
       " 1083,\n",
       " 1089,\n",
       " 1095,\n",
       " 1101,\n",
       " 1107,\n",
       " 1113,\n",
       " 1119,\n",
       " 1125,\n",
       " 1131,\n",
       " 1137,\n",
       " 1143,\n",
       " 1149,\n",
       " 1155,\n",
       " 1161,\n",
       " 1167,\n",
       " 1173,\n",
       " 1179,\n",
       " 1185,\n",
       " 1191,\n",
       " 1197,\n",
       " 1203,\n",
       " 1209,\n",
       " 1215,\n",
       " 1221,\n",
       " 1227,\n",
       " 1233,\n",
       " 1239,\n",
       " 1245,\n",
       " 1251,\n",
       " 1257,\n",
       " 1263,\n",
       " 1269,\n",
       " 1275,\n",
       " 1281,\n",
       " 1287,\n",
       " 1293,\n",
       " 1299,\n",
       " 1305,\n",
       " 1311,\n",
       " 1317,\n",
       " 1323,\n",
       " 1329,\n",
       " 1335,\n",
       " 1341,\n",
       " 1347,\n",
       " 1353,\n",
       " 1359,\n",
       " 1365,\n",
       " 1371,\n",
       " 1377,\n",
       " 1383,\n",
       " 1389,\n",
       " 1395,\n",
       " 1401,\n",
       " 1407,\n",
       " 1413,\n",
       " 1419,\n",
       " 1425,\n",
       " 1431,\n",
       " 1437,\n",
       " 1443,\n",
       " 1449,\n",
       " 1455,\n",
       " 1461,\n",
       " 1467,\n",
       " 1473,\n",
       " 1479,\n",
       " 1485,\n",
       " 1491,\n",
       " 1497,\n",
       " 1503,\n",
       " 1509,\n",
       " 1515,\n",
       " 1521,\n",
       " 1527,\n",
       " 1533,\n",
       " 1539,\n",
       " 1545,\n",
       " 1551,\n",
       " 1557,\n",
       " 1563,\n",
       " 1569,\n",
       " 1575,\n",
       " 1581,\n",
       " 1587,\n",
       " 1593,\n",
       " 1599,\n",
       " 1605,\n",
       " 1611,\n",
       " 1617,\n",
       " 1623,\n",
       " 1629,\n",
       " 1635,\n",
       " 1641,\n",
       " 1647,\n",
       " 1653,\n",
       " 1659,\n",
       " 1665,\n",
       " 1671,\n",
       " 1677,\n",
       " 1683,\n",
       " 1689,\n",
       " 1695,\n",
       " 1701,\n",
       " 1707,\n",
       " 1713,\n",
       " 1719,\n",
       " 1725,\n",
       " 1731,\n",
       " 1737,\n",
       " 1743,\n",
       " 1749,\n",
       " 1755,\n",
       " 1761,\n",
       " 1767,\n",
       " 1773,\n",
       " 1779,\n",
       " 1785,\n",
       " 1791,\n",
       " 1797,\n",
       " 1803,\n",
       " 1809,\n",
       " 1815,\n",
       " 1821,\n",
       " 1827,\n",
       " 1833,\n",
       " 1839,\n",
       " 1845,\n",
       " 1851,\n",
       " 1857,\n",
       " 1863,\n",
       " 1869,\n",
       " 1875,\n",
       " 1881,\n",
       " 1887,\n",
       " 1893,\n",
       " 1899,\n",
       " 1905,\n",
       " 1911,\n",
       " 1917,\n",
       " 1923,\n",
       " 1929,\n",
       " 1935,\n",
       " 1941,\n",
       " 1947,\n",
       " 1953,\n",
       " 1959,\n",
       " 1965,\n",
       " 1971,\n",
       " 1977,\n",
       " 1983,\n",
       " 1989,\n",
       " 1995]"
      ]
     },
     "execution_count": 16,
     "metadata": {},
     "output_type": "execute_result"
    }
   ],
   "source": [
    "%%time\n",
    "for i in range(1000):\n",
    "    list1=list(range(1,1000,3))\n",
    "    list2=list(range(2,1001,3))\n",
    "    list3=[]\n",
    "    for j in range(len(list2)):\n",
    "        list3.append(list1[j]+list2[j])\n",
    "list3        "
   ]
  },
  {
   "cell_type": "code",
   "execution_count": 20,
   "id": "dc4996ec",
   "metadata": {},
   "outputs": [
    {
     "name": "stdout",
     "output_type": "stream",
     "text": [
      "CPU times: total: 0 ns\n",
      "Wall time: 10.6 ms\n"
     ]
    },
    {
     "data": {
      "text/plain": [
       "array([   3,    9,   15,   21,   27,   33,   39,   45,   51,   57,   63,\n",
       "         69,   75,   81,   87,   93,   99,  105,  111,  117,  123,  129,\n",
       "        135,  141,  147,  153,  159,  165,  171,  177,  183,  189,  195,\n",
       "        201,  207,  213,  219,  225,  231,  237,  243,  249,  255,  261,\n",
       "        267,  273,  279,  285,  291,  297,  303,  309,  315,  321,  327,\n",
       "        333,  339,  345,  351,  357,  363,  369,  375,  381,  387,  393,\n",
       "        399,  405,  411,  417,  423,  429,  435,  441,  447,  453,  459,\n",
       "        465,  471,  477,  483,  489,  495,  501,  507,  513,  519,  525,\n",
       "        531,  537,  543,  549,  555,  561,  567,  573,  579,  585,  591,\n",
       "        597,  603,  609,  615,  621,  627,  633,  639,  645,  651,  657,\n",
       "        663,  669,  675,  681,  687,  693,  699,  705,  711,  717,  723,\n",
       "        729,  735,  741,  747,  753,  759,  765,  771,  777,  783,  789,\n",
       "        795,  801,  807,  813,  819,  825,  831,  837,  843,  849,  855,\n",
       "        861,  867,  873,  879,  885,  891,  897,  903,  909,  915,  921,\n",
       "        927,  933,  939,  945,  951,  957,  963,  969,  975,  981,  987,\n",
       "        993,  999, 1005, 1011, 1017, 1023, 1029, 1035, 1041, 1047, 1053,\n",
       "       1059, 1065, 1071, 1077, 1083, 1089, 1095, 1101, 1107, 1113, 1119,\n",
       "       1125, 1131, 1137, 1143, 1149, 1155, 1161, 1167, 1173, 1179, 1185,\n",
       "       1191, 1197, 1203, 1209, 1215, 1221, 1227, 1233, 1239, 1245, 1251,\n",
       "       1257, 1263, 1269, 1275, 1281, 1287, 1293, 1299, 1305, 1311, 1317,\n",
       "       1323, 1329, 1335, 1341, 1347, 1353, 1359, 1365, 1371, 1377, 1383,\n",
       "       1389, 1395, 1401, 1407, 1413, 1419, 1425, 1431, 1437, 1443, 1449,\n",
       "       1455, 1461, 1467, 1473, 1479, 1485, 1491, 1497, 1503, 1509, 1515,\n",
       "       1521, 1527, 1533, 1539, 1545, 1551, 1557, 1563, 1569, 1575, 1581,\n",
       "       1587, 1593, 1599, 1605, 1611, 1617, 1623, 1629, 1635, 1641, 1647,\n",
       "       1653, 1659, 1665, 1671, 1677, 1683, 1689, 1695, 1701, 1707, 1713,\n",
       "       1719, 1725, 1731, 1737, 1743, 1749, 1755, 1761, 1767, 1773, 1779,\n",
       "       1785, 1791, 1797, 1803, 1809, 1815, 1821, 1827, 1833, 1839, 1845,\n",
       "       1851, 1857, 1863, 1869, 1875, 1881, 1887, 1893, 1899, 1905, 1911,\n",
       "       1917, 1923, 1929, 1935, 1941, 1947, 1953, 1959, 1965, 1971, 1977,\n",
       "       1983, 1989, 1995])"
      ]
     },
     "execution_count": 20,
     "metadata": {},
     "output_type": "execute_result"
    }
   ],
   "source": [
    "%%time\n",
    "for i in range(1000):\n",
    "    a = np.arange(1,1000,3)\n",
    "    b = np.arange(2,1001,3)\n",
    "    c=a+b\n",
    "c       "
   ]
  },
  {
   "cell_type": "markdown",
   "id": "b798b4e8",
   "metadata": {},
   "source": [
    "# Memory"
   ]
  },
  {
   "cell_type": "code",
   "execution_count": 3,
   "id": "b291b92d",
   "metadata": {},
   "outputs": [
    {
     "data": {
      "text/plain": [
       "168"
      ]
     },
     "execution_count": 3,
     "metadata": {},
     "output_type": "execute_result"
    }
   ],
   "source": [
    "import sys\n",
    "python_list=[10,20,30,40,50,60]\n",
    "numpy_array=np.array(python_list)\n",
    "sizeof_pl=sys.getsizeof(1)*len(python_list)\n",
    "sizeof_pl"
   ]
  },
  {
   "cell_type": "code",
   "execution_count": 5,
   "id": "18e22a8c",
   "metadata": {},
   "outputs": [
    {
     "data": {
      "text/plain": [
       "24"
      ]
     },
     "execution_count": 5,
     "metadata": {},
     "output_type": "execute_result"
    }
   ],
   "source": [
    "sizeof_na=numpy_array.itemsize*numpy_array.size\n",
    "sizeof_na"
   ]
  },
  {
   "cell_type": "code",
   "execution_count": 6,
   "id": "f69b4579",
   "metadata": {},
   "outputs": [
    {
     "data": {
      "text/plain": [
       "4"
      ]
     },
     "execution_count": 6,
     "metadata": {},
     "output_type": "execute_result"
    }
   ],
   "source": [
    "numpy_array.itemsize"
   ]
  },
  {
   "cell_type": "markdown",
   "id": "730a8b4f",
   "metadata": {},
   "source": [
    "### Numpy Arrays"
   ]
  },
  {
   "cell_type": "markdown",
   "id": "bf5788fc",
   "metadata": {},
   "source": [
    "#### 1. Create using python list"
   ]
  },
  {
   "cell_type": "code",
   "execution_count": 7,
   "id": "b0a87d25",
   "metadata": {},
   "outputs": [],
   "source": [
    "list1 = [10,20,30]"
   ]
  },
  {
   "cell_type": "code",
   "execution_count": 8,
   "id": "56a04026",
   "metadata": {},
   "outputs": [
    {
     "data": {
      "text/plain": [
       "array([10, 20, 30])"
      ]
     },
     "execution_count": 8,
     "metadata": {},
     "output_type": "execute_result"
    }
   ],
   "source": [
    "np.array(list1)"
   ]
  },
  {
   "cell_type": "code",
   "execution_count": 9,
   "id": "12c8cb5d",
   "metadata": {},
   "outputs": [],
   "source": [
    "matrix=[[10,20,30],[40,50,60],[70,80,90]]"
   ]
  },
  {
   "cell_type": "code",
   "execution_count": 10,
   "id": "bad62f30",
   "metadata": {},
   "outputs": [
    {
     "data": {
      "text/plain": [
       "list"
      ]
     },
     "execution_count": 10,
     "metadata": {},
     "output_type": "execute_result"
    }
   ],
   "source": [
    "type(matrix)"
   ]
  },
  {
   "cell_type": "code",
   "execution_count": 11,
   "id": "b6575c49",
   "metadata": {},
   "outputs": [
    {
     "data": {
      "text/plain": [
       "array([[10, 20, 30],\n",
       "       [40, 50, 60],\n",
       "       [70, 80, 90]])"
      ]
     },
     "execution_count": 11,
     "metadata": {},
     "output_type": "execute_result"
    }
   ],
   "source": [
    "np.array(matrix)  # multidimentional matrix"
   ]
  },
  {
   "cell_type": "code",
   "execution_count": 12,
   "id": "2e7c9085",
   "metadata": {},
   "outputs": [
    {
     "data": {
      "text/plain": [
       "matrix([[10, 20, 30],\n",
       "        [40, 50, 60],\n",
       "        [70, 80, 90]])"
      ]
     },
     "execution_count": 12,
     "metadata": {},
     "output_type": "execute_result"
    }
   ],
   "source": [
    "np.matrix(matrix)    # Not recomended  (only for matrix operations)"
   ]
  },
  {
   "cell_type": "markdown",
   "id": "7cfdf213",
   "metadata": {},
   "source": [
    "#### 2. Using Inbuild methods"
   ]
  },
  {
   "cell_type": "markdown",
   "id": "bb215e24",
   "metadata": {},
   "source": [
    "##### a) arange"
   ]
  },
  {
   "cell_type": "code",
   "execution_count": 13,
   "id": "5382f34e",
   "metadata": {},
   "outputs": [
    {
     "data": {
      "text/plain": [
       "array([19, 17, 15, 13, 11,  9,  7,  5,  3])"
      ]
     },
     "execution_count": 13,
     "metadata": {},
     "output_type": "execute_result"
    }
   ],
   "source": [
    "np.arange(19,1,-2)"
   ]
  },
  {
   "cell_type": "markdown",
   "id": "aa3ee467",
   "metadata": {},
   "source": [
    "## What would be the output of following code?"
   ]
  },
  {
   "cell_type": "code",
   "execution_count": 15,
   "id": "fcb6905e",
   "metadata": {},
   "outputs": [
    {
     "data": {
      "text/plain": [
       "array([-1,  0,  1,  2,  3])"
      ]
     },
     "execution_count": 15,
     "metadata": {},
     "output_type": "execute_result"
    }
   ],
   "source": [
    "np.arange(-1,4,1)"
   ]
  },
  {
   "cell_type": "markdown",
   "id": "b4db6025",
   "metadata": {},
   "source": [
    "#### b) Using Zeros and ones"
   ]
  },
  {
   "cell_type": "code",
   "execution_count": 16,
   "id": "e32dba3b",
   "metadata": {},
   "outputs": [
    {
     "data": {
      "text/plain": [
       "array([0., 0., 0., 0., 0.])"
      ]
     },
     "execution_count": 16,
     "metadata": {},
     "output_type": "execute_result"
    }
   ],
   "source": [
    "np.zeros(5)"
   ]
  },
  {
   "cell_type": "code",
   "execution_count": 17,
   "id": "cced3d77",
   "metadata": {},
   "outputs": [
    {
     "data": {
      "text/plain": [
       "array([[0., 0., 0.],\n",
       "       [0., 0., 0.],\n",
       "       [0., 0., 0.],\n",
       "       [0., 0., 0.],\n",
       "       [0., 0., 0.]])"
      ]
     },
     "execution_count": 17,
     "metadata": {},
     "output_type": "execute_result"
    }
   ],
   "source": [
    "np.zeros((5,3))"
   ]
  },
  {
   "cell_type": "code",
   "execution_count": 18,
   "id": "2e68ae2c",
   "metadata": {},
   "outputs": [
    {
     "data": {
      "text/plain": [
       "array([1., 1., 1., 1.])"
      ]
     },
     "execution_count": 18,
     "metadata": {},
     "output_type": "execute_result"
    }
   ],
   "source": [
    "np.ones(4)"
   ]
  },
  {
   "cell_type": "code",
   "execution_count": 19,
   "id": "73c1f854",
   "metadata": {},
   "outputs": [
    {
     "data": {
      "text/plain": [
       "array([[1., 1., 1., 1.],\n",
       "       [1., 1., 1., 1.],\n",
       "       [1., 1., 1., 1.]])"
      ]
     },
     "execution_count": 19,
     "metadata": {},
     "output_type": "execute_result"
    }
   ],
   "source": [
    "np.ones((3,4))"
   ]
  },
  {
   "cell_type": "markdown",
   "id": "a1c7b4f4",
   "metadata": {},
   "source": [
    "#### c) Using Linspace"
   ]
  },
  {
   "cell_type": "code",
   "execution_count": 20,
   "id": "2882725c",
   "metadata": {},
   "outputs": [
    {
     "data": {
      "text/plain": [
       "array([ 2.,  4.,  6.,  8., 10.])"
      ]
     },
     "execution_count": 20,
     "metadata": {},
     "output_type": "execute_result"
    }
   ],
   "source": [
    "np.linspace(2,10,5)  #returns an array of evenly spaced values within the specified interval [start, stop , range]."
   ]
  },
  {
   "cell_type": "code",
   "execution_count": 22,
   "id": "caeaec48",
   "metadata": {},
   "outputs": [
    {
     "data": {
      "text/plain": [
       "array([ 0.,  5., 10.])"
      ]
     },
     "execution_count": 22,
     "metadata": {},
     "output_type": "execute_result"
    }
   ],
   "source": [
    "np.linspace(0,10,3)"
   ]
  },
  {
   "cell_type": "code",
   "execution_count": 25,
   "id": "019ff1b0",
   "metadata": {},
   "outputs": [
    {
     "data": {
      "text/plain": [
       "array([ 0. ,  2.5,  5. ,  7.5, 10. ])"
      ]
     },
     "execution_count": 25,
     "metadata": {},
     "output_type": "execute_result"
    }
   ],
   "source": [
    "np.linspace(0,10,5)"
   ]
  },
  {
   "cell_type": "markdown",
   "id": "fb431355",
   "metadata": {},
   "source": [
    "#### d) Using eye"
   ]
  },
  {
   "cell_type": "code",
   "execution_count": 23,
   "id": "0586ef43",
   "metadata": {},
   "outputs": [
    {
     "data": {
      "text/plain": [
       "array([[1., 0., 0.],\n",
       "       [0., 1., 0.],\n",
       "       [0., 0., 1.]])"
      ]
     },
     "execution_count": 23,
     "metadata": {},
     "output_type": "execute_result"
    }
   ],
   "source": [
    "np.eye(3) ## Identity Matrix"
   ]
  },
  {
   "cell_type": "code",
   "execution_count": 24,
   "id": "fa048ddd",
   "metadata": {},
   "outputs": [
    {
     "data": {
      "text/plain": [
       "array([[1., 0., 0., 0., 0., 0.],\n",
       "       [0., 1., 0., 0., 0., 0.],\n",
       "       [0., 0., 1., 0., 0., 0.],\n",
       "       [0., 0., 0., 1., 0., 0.],\n",
       "       [0., 0., 0., 0., 1., 0.],\n",
       "       [0., 0., 0., 0., 0., 1.]])"
      ]
     },
     "execution_count": 24,
     "metadata": {},
     "output_type": "execute_result"
    }
   ],
   "source": [
    "np.eye(6,6)"
   ]
  },
  {
   "cell_type": "code",
   "execution_count": null,
   "id": "c19b6a25",
   "metadata": {},
   "outputs": [],
   "source": []
  },
  {
   "cell_type": "markdown",
   "id": "d2d5f6c0",
   "metadata": {},
   "source": [
    "## 3. Generating Random numbers"
   ]
  },
  {
   "cell_type": "markdown",
   "id": "623d2cd4",
   "metadata": {},
   "source": [
    "### a. rand\n",
    "Uniformly distributed random numbers over [0,1]"
   ]
  },
  {
   "cell_type": "code",
   "execution_count": 26,
   "id": "fdfb9546",
   "metadata": {},
   "outputs": [
    {
     "data": {
      "text/plain": [
       "array([0.46482899, 0.24150882, 0.94541368, 0.98493275, 0.55985251,\n",
       "       0.0897127 , 0.91071719])"
      ]
     },
     "execution_count": 26,
     "metadata": {},
     "output_type": "execute_result"
    }
   ],
   "source": [
    "np.random.rand(7)"
   ]
  },
  {
   "cell_type": "code",
   "execution_count": 27,
   "id": "6f41829b",
   "metadata": {},
   "outputs": [
    {
     "data": {
      "text/plain": [
       "array([[0.64506804, 0.33848705, 0.55130925, 0.3625711 ],\n",
       "       [0.64742208, 0.55980487, 0.844982  , 0.77975953],\n",
       "       [0.75214043, 0.0017662 , 0.17151832, 0.19256715]])"
      ]
     },
     "execution_count": 27,
     "metadata": {},
     "output_type": "execute_result"
    }
   ],
   "source": [
    "np.random.rand(3,4)"
   ]
  },
  {
   "cell_type": "markdown",
   "id": "783be2b2",
   "metadata": {},
   "source": [
    "### b. randn\n",
    "generates normally distributed random numbers"
   ]
  },
  {
   "cell_type": "code",
   "execution_count": 29,
   "id": "597c64e2",
   "metadata": {},
   "outputs": [
    {
     "data": {
      "text/plain": [
       "array([ 0.59380472,  1.76064622,  0.1313626 , -0.51065451,  0.03111329])"
      ]
     },
     "execution_count": 29,
     "metadata": {},
     "output_type": "execute_result"
    }
   ],
   "source": [
    "np.random.randn(5)"
   ]
  },
  {
   "cell_type": "code",
   "execution_count": 30,
   "id": "6850c7a7",
   "metadata": {},
   "outputs": [
    {
     "data": {
      "text/plain": [
       "array([[-0.41318283,  0.32452622, -1.39607958, -2.2103406 ],\n",
       "       [ 0.72398739, -0.75237661,  1.27601643, -0.89910525],\n",
       "       [-0.92924871, -0.77708689,  0.1931341 ,  0.92323413],\n",
       "       [-0.66841683, -0.80922249,  0.25836409,  0.16618418]])"
      ]
     },
     "execution_count": 30,
     "metadata": {},
     "output_type": "execute_result"
    }
   ],
   "source": [
    "np.random.randn(4,4)"
   ]
  },
  {
   "cell_type": "markdown",
   "id": "92277cee",
   "metadata": {},
   "source": [
    "### c. randint\n",
    "generates random integers over given range"
   ]
  },
  {
   "cell_type": "code",
   "execution_count": 31,
   "id": "b7effd1f",
   "metadata": {},
   "outputs": [
    {
     "data": {
      "text/plain": [
       "array([40, 29, 29, 49, 44])"
      ]
     },
     "execution_count": 31,
     "metadata": {},
     "output_type": "execute_result"
    }
   ],
   "source": [
    "np.random.randint(10,100,5)"
   ]
  },
  {
   "cell_type": "markdown",
   "id": "fcadfc2e",
   "metadata": {},
   "source": [
    "## Which of the following(s) has the ability to generate 4 numbers ranging from 2 to 8\n",
    "np.linspace(2,8,4) \n",
    "np.random.randint(2,8,4)\n",
    "np.random.randint(2,9,4)\n",
    "np.linspace(2,9,4)"
   ]
  },
  {
   "cell_type": "code",
   "execution_count": 32,
   "id": "f02b631f",
   "metadata": {},
   "outputs": [
    {
     "data": {
      "text/plain": [
       "array([2., 4., 6., 8.])"
      ]
     },
     "execution_count": 32,
     "metadata": {},
     "output_type": "execute_result"
    }
   ],
   "source": [
    "np.linspace(2,8,4)"
   ]
  },
  {
   "cell_type": "code",
   "execution_count": 33,
   "id": "3a09deec",
   "metadata": {},
   "outputs": [
    {
     "data": {
      "text/plain": [
       "array([2, 4, 7, 7])"
      ]
     },
     "execution_count": 33,
     "metadata": {},
     "output_type": "execute_result"
    }
   ],
   "source": [
    "np.random.randint(2,8,4)"
   ]
  },
  {
   "cell_type": "code",
   "execution_count": 34,
   "id": "8a1adeef",
   "metadata": {},
   "outputs": [
    {
     "data": {
      "text/plain": [
       "array([4, 6, 6, 7])"
      ]
     },
     "execution_count": 34,
     "metadata": {},
     "output_type": "execute_result"
    }
   ],
   "source": [
    "np.random.randint(2,9,4) "
   ]
  },
  {
   "cell_type": "code",
   "execution_count": 35,
   "id": "72bbb48d",
   "metadata": {},
   "outputs": [
    {
     "data": {
      "text/plain": [
       "array([2.        , 4.33333333, 6.66666667, 9.        ])"
      ]
     },
     "execution_count": 35,
     "metadata": {},
     "output_type": "execute_result"
    }
   ],
   "source": [
    "np.linspace(2,9,4)"
   ]
  },
  {
   "cell_type": "code",
   "execution_count": null,
   "id": "2690e277",
   "metadata": {},
   "outputs": [],
   "source": []
  }
 ],
 "metadata": {
  "kernelspec": {
   "display_name": "Python 3 (ipykernel)",
   "language": "python",
   "name": "python3"
  },
  "language_info": {
   "codemirror_mode": {
    "name": "ipython",
    "version": 3
   },
   "file_extension": ".py",
   "mimetype": "text/x-python",
   "name": "python",
   "nbconvert_exporter": "python",
   "pygments_lexer": "ipython3",
   "version": "3.11.5"
  }
 },
 "nbformat": 4,
 "nbformat_minor": 5
}
